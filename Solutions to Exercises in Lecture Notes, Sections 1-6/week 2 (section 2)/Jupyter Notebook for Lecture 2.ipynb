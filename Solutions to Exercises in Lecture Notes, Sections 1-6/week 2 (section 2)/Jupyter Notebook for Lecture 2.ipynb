{
 "cells": [
  {
   "cell_type": "markdown",
   "metadata": {},
   "source": [
    "# Lecture 2 - Functions"
   ]
  },
  {
   "cell_type": "markdown",
   "metadata": {},
   "source": [
    "A function is a block of code working as a single unit and carrying out a specific\n",
    "task only when it is called. You will see roughly three types of functions."
   ]
  },
  {
   "cell_type": "markdown",
   "metadata": {},
   "source": [
    "## 2.1  Predefined functions"
   ]
  },
  {
   "cell_type": "markdown",
   "metadata": {},
   "source": [
    "Some functions are built-in or predefined, for instance print, type, abs, int, max, etcetera:"
   ]
  },
  {
   "cell_type": "code",
   "execution_count": 14,
   "metadata": {},
   "outputs": [
    {
     "name": "stdout",
     "output_type": "stream",
     "text": [
      "message\n"
     ]
    }
   ],
   "source": [
    "print (\"message\" )"
   ]
  },
  {
   "cell_type": "code",
   "execution_count": 15,
   "metadata": {},
   "outputs": [
    {
     "name": "stdout",
     "output_type": "stream",
     "text": [
      "<class 'float'>\n",
      "<class 'str'>\n"
     ]
    }
   ],
   "source": [
    "# type of a variable\n",
    "print(type(3.2))\n",
    "print(type(\"hello\"))"
   ]
  },
  {
   "cell_type": "code",
   "execution_count": 16,
   "metadata": {},
   "outputs": [
    {
     "name": "stdout",
     "output_type": "stream",
     "text": [
      "4\n",
      "3\n"
     ]
    }
   ],
   "source": [
    "# absolute value of a number\n",
    "print ( abs ( -4) )\n",
    "print( abs ( 3))"
   ]
  },
  {
   "cell_type": "code",
   "execution_count": 17,
   "metadata": {},
   "outputs": [
    {
     "name": "stdout",
     "output_type": "stream",
     "text": [
      "4\n"
     ]
    }
   ],
   "source": [
    "# integer part if the variable is numerical \n",
    "print ( int (4.5) )"
   ]
  },
  {
   "cell_type": "code",
   "execution_count": 18,
   "metadata": {},
   "outputs": [
    {
     "name": "stdout",
     "output_type": "stream",
     "text": [
      "2\n",
      "2\n"
     ]
    }
   ],
   "source": [
    "# we will see more about arrays and lists next week\n",
    "print( max (  [1,2,-3]  ) )\n",
    "print( max( 2, 2, -4 ) )"
   ]
  },
  {
   "cell_type": "markdown",
   "metadata": {},
   "source": [
    "## 2.2 Functions defined in the Standard Library and in other reliable external modules"
   ]
  },
  {
   "cell_type": "markdown",
   "metadata": {},
   "source": [
    "Some functions are not exactly built in but they have become part of the extended capabilities of Python via standard and external libraries programmed by experts and displaying trustworthy professional quality markers. We will see these in the future, but for the time being here are some examples:"
   ]
  },
  {
   "cell_type": "code",
   "execution_count": 26,
   "metadata": {},
   "outputs": [
    {
     "name": "stdout",
     "output_type": "stream",
     "text": [
      "-0.9899924966004454\n",
      "6.123233995736766e-17\n",
      "-1.0\n",
      "1096.6331584284585\n"
     ]
    }
   ],
   "source": [
    "# this line is necessary to the math package where the cosine function is found\n",
    "import math\n",
    "\n",
    "print( math.cos(3) )\n",
    "print( math.cos(math.pi/2) )\n",
    "print( math.cos(math.pi))\n",
    "print(math.exp(7))"
   ]
  },
  {
   "cell_type": "code",
   "execution_count": 27,
   "metadata": {},
   "outputs": [
    {
     "name": "stdout",
     "output_type": "stream",
     "text": [
      "Our square root:  19524442071626.14  took  0.0001964569091796875 sec to compute\n"
     ]
    }
   ],
   "source": [
    "# we import a package measuring time and we import the math package as well\n",
    "import time as hello\n",
    "import math as ma\n",
    "\n",
    "# in this case function time() does not have an explicit argument \n",
    "start = hello.time( )\n",
    "squareroot1 = ma.sqrt( 381203838208284820842812313 )\n",
    "end = hello.time()\n",
    "diff = end - start\n",
    "print(\"Our square root: \", squareroot1, \" took \", diff,\"sec to compute\")"
   ]
  },
  {
   "cell_type": "markdown",
   "metadata": {},
   "source": [
    "## 2.3 Functions defined by you"
   ]
  },
  {
   "cell_type": "markdown",
   "metadata": {},
   "source": [
    "And then there are functions defined by the individual programmer. We are going to learn how to program those effectively during this teaching block"
   ]
  },
  {
   "cell_type": "markdown",
   "metadata": {},
   "source": [
    "### Example of why we need functions to simplify our code"
   ]
  },
  {
   "cell_type": "markdown",
   "metadata": {},
   "source": [
    "Assume we have a file, say example.py, containing the following code:"
   ]
  },
  {
   "cell_type": "code",
   "execution_count": null,
   "metadata": {},
   "outputs": [],
   "source": [
    "x=1\n",
    "\n",
    "# We store the value of x in y, then update x\n",
    "y=x\n",
    "x+=3\n",
    "print(\"The increment of\", y, \"by 3\", \" is \",x)\n"
   ]
  },
  {
   "cell_type": "markdown",
   "metadata": {},
   "source": [
    "Assume, however, that we need to perform this operation a number of times throughout the code:"
   ]
  },
  {
   "cell_type": "code",
   "execution_count": null,
   "metadata": {},
   "outputs": [],
   "source": [
    "x=1\n",
    "\n",
    "# We store the value of x in y, then update x\n",
    "y=x\n",
    "x+=3\n",
    "print(\"The increment of\", y, \"by 3\", \" is \",x)\n",
    "\n",
    "# Here there may be lines of code doing other stuff \n",
    "\n",
    "# We store the value of x in y, then update x\n",
    "y=x\n",
    "x+=3\n",
    "print(\"The increment of\", y, \"by 3\", \" is \",x)\n",
    "\n",
    "# Here there may be lines of code doing other stuff \n",
    "\n",
    "# We store the value of x in y, then update x\n",
    "y=x\n",
    "x+=3\n",
    "print(\"The increment of\", y, \"by 3\", \" is \",x)\n",
    "\n",
    "# Here there may be lines of code doing other stuff \n",
    "\n",
    "# We store the value of x in y, then update x\n",
    "y=x\n",
    "x+=3\n",
    "print(\"The increment of\", y, \"by 3\", \" is \",x)\n",
    "\n"
   ]
  },
  {
   "cell_type": "markdown",
   "metadata": {},
   "source": [
    "The program works but we have to write three lines every time. Sometimes it will be more than three lines (and sometimes the operation will be carried out more than four times, but we still have to explain loops). How about the following:"
   ]
  },
  {
   "cell_type": "code",
   "execution_count": null,
   "metadata": {},
   "outputs": [],
   "source": [
    "def incr_by_three(x):\n",
    "    # We store the value of x in y, then update x\n",
    "    y=x\n",
    "    x+=3\n",
    "    print(\"The increment of\", y, \"by 3\", \" is \",x)\n",
    "    return(x)\n",
    "    \n",
    "# Initial condition\n",
    "x=1\n",
    "\n",
    "# Here there may be lines of code doing other stuff \n",
    "\n",
    "x=incr_by_three(x)\n",
    "\n",
    "# Here there may be lines of code doing other stuff \n",
    "\n",
    "x=incr_by_three(x)\n",
    "\n",
    "# Here there may be lines of code doing other stuff \n",
    "\n",
    "x=incr_by_three(x)\n",
    "\n",
    "# Here there may be lines of code doing other stuff \n",
    "\n",
    "x=incr_by_three(x)"
   ]
  },
  {
   "cell_type": "markdown",
   "metadata": {},
   "source": [
    "Using the function defined above, each set of commands can be summarised in a single line"
   ]
  },
  {
   "cell_type": "markdown",
   "metadata": {},
   "source": [
    "### Difference between local and global"
   ]
  },
  {
   "cell_type": "markdown",
   "metadata": {},
   "source": [
    "This will give us an error message"
   ]
  },
  {
   "cell_type": "code",
   "execution_count": null,
   "metadata": {},
   "outputs": [],
   "source": [
    "def miles_to_km ( miles ): \n",
    "    x=miles*1.6\n",
    "    return x\n",
    "print (x)"
   ]
  },
  {
   "cell_type": "markdown",
   "metadata": {},
   "source": [
    "This is an example of why declaring a variable globally first has no influence on the local variable bearing the same name inside a function"
   ]
  },
  {
   "cell_type": "code",
   "execution_count": null,
   "metadata": {},
   "outputs": [],
   "source": [
    "x=1\n",
    "def miles_to_km ( miles ):\n",
    "    x=miles*1.6\n",
    "    return x\n",
    "print (miles_to_km ( 3 ))\n",
    "print(x)"
   ]
  },
  {
   "cell_type": "markdown",
   "metadata": {},
   "source": [
    "Even if we do not use the argument: "
   ]
  },
  {
   "cell_type": "code",
   "execution_count": null,
   "metadata": {},
   "outputs": [],
   "source": [
    "x=1\n",
    "def miles_to_km ( miles ):\n",
    "    x=3*1.6\n",
    "    return x\n",
    "print (miles_to_km ( 3 ))\n",
    "print(x)"
   ]
  },
  {
   "cell_type": "markdown",
   "metadata": {},
   "source": [
    "And this will be a source of error:"
   ]
  },
  {
   "cell_type": "code",
   "execution_count": null,
   "metadata": {},
   "outputs": [],
   "source": [
    "x=1\n",
    "def miles_to_km ( miles ):\n",
    "    # we are trying to use x both as a local and as a global variable, and this will fail\n",
    "    x=x*1.6\n",
    "    return x\n",
    "print (miles_to_km ( x ))\n",
    "print(x)"
   ]
  },
  {
   "cell_type": "markdown",
   "metadata": {},
   "source": [
    "This is theoretically correct but it is not well programmed because the argument miles is not used; the actual argument is x, and it needs to be changed in the first line every time. "
   ]
  },
  {
   "cell_type": "code",
   "execution_count": null,
   "metadata": {},
   "outputs": [],
   "source": [
    "x=1\n",
    "def miles_to_km ( miles ):\n",
    "    # now the local variable will be y, thus there is no chance of mistaking with x\n",
    "    y=x*1.6\n",
    "    return y\n",
    "print (miles_to_km ( 12 ))\n",
    "# it does not matter that we wrote 12, the function will still do it for 1 because x was defined as 1 globally\n",
    "print(x)"
   ]
  },
  {
   "cell_type": "markdown",
   "metadata": {},
   "source": [
    "This is a correct way of doing it but the use of the same variable name for local and global variables is not encouraged unless inevitable"
   ]
  },
  {
   "cell_type": "code",
   "execution_count": null,
   "metadata": {},
   "outputs": [],
   "source": [
    "x=1\n",
    "def miles_to_km ( miles ):\n",
    "    x=miles*1.6             \n",
    "    return x                \n",
    "print (miles_to_km ( 12 ))\n",
    "print (miles_to_km ( x ))"
   ]
  },
  {
   "cell_type": "markdown",
   "metadata": {},
   "source": [
    "And this is not only correct, but looks better:"
   ]
  },
  {
   "cell_type": "code",
   "execution_count": null,
   "metadata": {},
   "outputs": [],
   "source": [
    "x=1\n",
    "def miles_to_km ( miles ):\n",
    "    y=miles*1.6             # we use a variable that cannot even be confused with the global x by a person who only reads this line\n",
    "    return y                \n",
    "print (miles_to_km ( 12 ))\n",
    "print (miles_to_km ( x ))"
   ]
  },
  {
   "cell_type": "markdown",
   "metadata": {},
   "source": [
    "We can still render x global within the function, although it is completely unnecessary here:"
   ]
  },
  {
   "cell_type": "code",
   "execution_count": null,
   "metadata": {},
   "outputs": [],
   "source": [
    "# This function modifies global variable x def miles to km ( ):\n",
    "def miles_to_km ( ):\n",
    "    global x\n",
    "    x=x*1.6\n",
    "    return x\n",
    "x=1\n",
    "miles_to_km()\n",
    "print(x)\n",
    "miles_to_km()\n",
    "print(x)\n",
    "print(miles_to_km())\n",
    "print(x)"
   ]
  },
  {
   "cell_type": "markdown",
   "metadata": {},
   "source": [
    "This however is the shortest and best way to declare this particular function:"
   ]
  },
  {
   "cell_type": "code",
   "execution_count": null,
   "metadata": {},
   "outputs": [],
   "source": [
    "def miles_to_km ( miles ): \n",
    "    return miles*1.6\n",
    "\n",
    "print(miles_to_km (2))\n",
    "print(miles_to_km (3))\n",
    "x=miles_to_km (4)\n",
    "print(x)"
   ]
  },
  {
   "cell_type": "markdown",
   "metadata": {},
   "source": [
    "### Functions with two or more parameters"
   ]
  },
  {
   "cell_type": "code",
   "execution_count": null,
   "metadata": {},
   "outputs": [],
   "source": [
    "def add ( n1, n2 ):\n",
    "    return n1+n2\n",
    "\n",
    "print(add(3, 2))\n",
    "print(add(3,2.2))\n",
    "print(add(0,-1))"
   ]
  },
  {
   "cell_type": "markdown",
   "metadata": {},
   "source": [
    "Alternatively we can use a local variable in the function to store the output before returning it"
   ]
  },
  {
   "cell_type": "code",
   "execution_count": null,
   "metadata": {},
   "outputs": [],
   "source": [
    "def add ( n1, n2 ):\n",
    "    x=n1+n2\n",
    "    return x\n",
    "\n",
    "print(add(3, 2))\n",
    "print(add(3,2.2))\n",
    "print(add(0,-1))"
   ]
  },
  {
   "cell_type": "markdown",
   "metadata": {},
   "source": [
    "We can define functions with more than two arguments but be careful with using the same name:"
   ]
  },
  {
   "cell_type": "code",
   "execution_count": null,
   "metadata": {},
   "outputs": [],
   "source": [
    "def add ( n1, n2 ):\n",
    "    x=n1+n2\n",
    "    return x\n",
    "def add ( n1, n2, n3 ):\n",
    "    x=n1+n2+n3\n",
    "    return x\n",
    "print(add(3, 2))\n",
    "print(add(3,2.2,5))\n",
    "print(add(0,-1))"
   ]
  },
  {
   "cell_type": "code",
   "execution_count": null,
   "metadata": {},
   "outputs": [],
   "source": [
    "def add ( n1, n2 ):\n",
    "    x=n1+n2\n",
    "    return x\n",
    "def add3 ( n1, n2, n3 ):\n",
    "    x=n1+n2+n3\n",
    "    return x\n",
    "print(add(3, 2))\n",
    "print(add3(3,2.2,5))\n",
    "print(add(0,-1))"
   ]
  },
  {
   "cell_type": "markdown",
   "metadata": {},
   "source": [
    "### Recursive functions"
   ]
  },
  {
   "cell_type": "markdown",
   "metadata": {},
   "source": [
    "Assume we wish to compute the sum of increasing powers of a value x. This function will not work because it lacks a base case. Be sure to press the \"stop\" key after a few seconds"
   ]
  },
  {
   "cell_type": "code",
   "execution_count": null,
   "metadata": {},
   "outputs": [],
   "source": [
    "def compute_sum(x,k):\n",
    "    return x**k+compute_sum(x,k-1)"
   ]
  },
  {
   "cell_type": "code",
   "execution_count": null,
   "metadata": {},
   "outputs": [],
   "source": [
    "print(compute_sum(1,1))"
   ]
  },
  {
   "cell_type": "markdown",
   "metadata": {},
   "source": [
    "We can set up a base case for this sum function"
   ]
  },
  {
   "cell_type": "code",
   "execution_count": null,
   "metadata": {},
   "outputs": [],
   "source": [
    "def compute_sum(x,k):\n",
    "    if k==0:\n",
    "        return 1\n",
    "    return x**k+compute_sum(x,k-1)"
   ]
  },
  {
   "cell_type": "code",
   "execution_count": null,
   "metadata": {},
   "outputs": [],
   "source": [
    "print(compute_sum(0.5,10))"
   ]
  },
  {
   "cell_type": "markdown",
   "metadata": {},
   "source": [
    "If we took infinitely many terms of this series (at x=0.5), we would have the value 2. This is validated by the fact that the larger amount of summands we take with our recursive function, the closer it gets to 2"
   ]
  },
  {
   "cell_type": "code",
   "execution_count": null,
   "metadata": {},
   "outputs": [],
   "source": [
    "print(compute_sum(0.5,20))"
   ]
  },
  {
   "cell_type": "code",
   "execution_count": null,
   "metadata": {},
   "outputs": [],
   "source": [
    "print(compute_sum(0.5,30))"
   ]
  },
  {
   "cell_type": "code",
   "execution_count": null,
   "metadata": {},
   "outputs": [],
   "source": [
    "print(compute_sum(0.5,50))"
   ]
  },
  {
   "cell_type": "code",
   "execution_count": null,
   "metadata": {},
   "outputs": [],
   "source": []
  }
 ],
 "metadata": {
  "kernelspec": {
   "display_name": "Python 3",
   "language": "python",
   "name": "python3"
  },
  "language_info": {
   "codemirror_mode": {
    "name": "ipython",
    "version": 3
   },
   "file_extension": ".py",
   "mimetype": "text/x-python",
   "name": "python",
   "nbconvert_exporter": "python",
   "pygments_lexer": "ipython3",
   "version": "3.6.6"
  },
  "toc": {
   "base_numbering": 1,
   "nav_menu": {},
   "number_sections": false,
   "sideBar": false,
   "skip_h1_title": false,
   "title_cell": "Table of Contents",
   "title_sidebar": "Contents",
   "toc_cell": false,
   "toc_position": {},
   "toc_section_display": false,
   "toc_window_display": false
  }
 },
 "nbformat": 4,
 "nbformat_minor": 2
}
