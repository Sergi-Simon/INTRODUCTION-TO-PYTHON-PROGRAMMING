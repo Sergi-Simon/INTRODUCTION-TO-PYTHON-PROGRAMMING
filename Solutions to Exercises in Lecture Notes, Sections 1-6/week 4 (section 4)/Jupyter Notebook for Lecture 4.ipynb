{
 "cells": [
  {
   "cell_type": "markdown",
   "metadata": {},
   "source": [
    "## Lecture 4"
   ]
  },
  {
   "cell_type": "markdown",
   "metadata": {},
   "source": [
    "###  The for loop"
   ]
  },
  {
   "cell_type": "markdown",
   "metadata": {},
   "source": [
    "Examples of determinate loops"
   ]
  },
  {
   "cell_type": "code",
   "execution_count": null,
   "metadata": {},
   "outputs": [],
   "source": [
    "list1=[1,2,3]\n",
    "for x in list1:\n",
    "    print (x)"
   ]
  },
  {
   "cell_type": "code",
   "execution_count": null,
   "metadata": {},
   "outputs": [],
   "source": [
    "list1=[1, 3.4, \"a\"]\n",
    "for x in list1:\n",
    "    print (x)"
   ]
  },
  {
   "cell_type": "code",
   "execution_count": null,
   "metadata": {},
   "outputs": [],
   "source": [
    "list2=[1, 3.4, \"a\",\"b\",-0.2,[1,2]]\n",
    "for u in list2:\n",
    "    if type(u)==str:\n",
    "        print (u)"
   ]
  },
  {
   "cell_type": "code",
   "execution_count": null,
   "metadata": {},
   "outputs": [],
   "source": [
    "set_1={1,3,7,17}\n",
    "for j in set_1:\n",
    "    print (j//2)\n",
    "print(set_1)"
   ]
  },
  {
   "cell_type": "code",
   "execution_count": null,
   "metadata": {},
   "outputs": [],
   "source": [
    "for j in {1,2,\"u\"}:\n",
    "    print (\"hello\")"
   ]
  },
  {
   "cell_type": "code",
   "execution_count": null,
   "metadata": {},
   "outputs": [],
   "source": [
    "tuple_1=1,2,3,4,10,20,30,40\n",
    "for i in tuple_1:\n",
    "    if i%3==1:\n",
    "        print (i)"
   ]
  },
  {
   "cell_type": "code",
   "execution_count": null,
   "metadata": {},
   "outputs": [],
   "source": [
    "list1 = [0,1,2,3,4,5]\n",
    "List1 = [\"a\",\"b\",0.1,3,4,134]\n",
    "for i in list1:\n",
    "    print (List1[i])"
   ]
  },
  {
   "cell_type": "code",
   "execution_count": null,
   "metadata": {},
   "outputs": [],
   "source": [
    "# Alternatively, we use a simpler \n",
    " for i in range(6):\n",
    "    print (List1[i])"
   ]
  },
  {
   "cell_type": "code",
   "execution_count": null,
   "metadata": {},
   "outputs": [],
   "source": [
    "for var in range(4,7):\n",
    "    print(var)"
   ]
  },
  {
   "cell_type": "code",
   "execution_count": null,
   "metadata": {},
   "outputs": [],
   "source": [
    "for var in range(4,11,3):\n",
    "    print(var)"
   ]
  },
  {
   "cell_type": "code",
   "execution_count": null,
   "metadata": {},
   "outputs": [],
   "source": [
    "for i in [\"Mary\",\"John\"]:\n",
    "    for j in (\"Ann\",\"David\",\"Robert\"):\n",
    "        print (i,\" knows \",j)"
   ]
  },
  {
   "cell_type": "code",
   "execution_count": null,
   "metadata": {},
   "outputs": [],
   "source": [
    "email = False\n",
    "for i in \"mymail@gmail.com\":\n",
    "    if i==\"@\":\n",
    "        email = True\n",
    "if email: # Another way of writing if email == True \n",
    "    print(\"This seems to be an email address\")"
   ]
  },
  {
   "cell_type": "code",
   "execution_count": null,
   "metadata": {},
   "outputs": [],
   "source": [
    "#Let us approximate cos( x ) in a compact way:\n",
    "\n",
    "def cos( x, k ):\n",
    "    s = 1\n",
    "    X = -x*x\n",
    "    factorial = 1\n",
    "    for i in range( 1, k ):\n",
    "        j = i*2\n",
    "        factorial *= j*(j-1)\n",
    "        s += X/factorial\n",
    "        X *= -x*x\n",
    "        \n",
    "    return s\n",
    "\n",
    "print(cos(2.261,20))"
   ]
  },
  {
   "cell_type": "markdown",
   "metadata": {},
   "source": [
    "Indeterminate loops"
   ]
  },
  {
   "cell_type": "code",
   "execution_count": null,
   "metadata": {},
   "outputs": [],
   "source": [
    "k=int(input(\"Write a length for the range \"))\n",
    "for x in range(k):\n",
    "    print(x)"
   ]
  },
  {
   "cell_type": "code",
   "execution_count": null,
   "metadata": {},
   "outputs": [],
   "source": [
    "s=0 # We need to initialise the sum to zero\n",
    "k=int(input(\"Write the number of summands: \"))\n",
    "step=int(input(\"Write the increment: \"))\n",
    "for x in range(0,k,step):\n",
    "    s += x # which is the same as s = s+x\n",
    "print(s)"
   ]
  },
  {
   "cell_type": "markdown",
   "metadata": {},
   "source": [
    "break statement"
   ]
  },
  {
   "cell_type": "code",
   "execution_count": null,
   "metadata": {},
   "outputs": [],
   "source": [
    "for x in (0,1,2,3,\"a\",\"b\",\"c\",8,9):\n",
    "    print (x)\n",
    "    if type(x)==str:\n",
    "        break\n",
    "print(\"x is now \",x)"
   ]
  },
  {
   "cell_type": "code",
   "execution_count": null,
   "metadata": {},
   "outputs": [],
   "source": [
    "x=[]\n",
    "for j in range(17):\n",
    "    if j % 8 == 7:\n",
    "        break\n",
    "    x.append(j)\n",
    "print(x)"
   ]
  },
  {
   "cell_type": "markdown",
   "metadata": {},
   "source": [
    "continue statement"
   ]
  },
  {
   "cell_type": "code",
   "execution_count": null,
   "metadata": {},
   "outputs": [],
   "source": [
    "x=[]\n",
    "for j in range(10):\n",
    "    if j % 8 == 7:\n",
    "        continue\n",
    "    x.append(j)\n",
    "print(x)"
   ]
  },
  {
   "cell_type": "markdown",
   "metadata": {},
   "source": [
    "### While loops"
   ]
  },
  {
   "cell_type": "markdown",
   "metadata": {},
   "source": [
    "Infinite loop:"
   ]
  },
  {
   "cell_type": "code",
   "execution_count": null,
   "metadata": {
    "scrolled": false
   },
   "outputs": [],
   "source": [
    "i=1\n",
    "while i  <= 10:\n",
    "    print(\"hello\")"
   ]
  },
  {
   "cell_type": "markdown",
   "metadata": {},
   "source": [
    "Will never be iterated:"
   ]
  },
  {
   "cell_type": "code",
   "execution_count": null,
   "metadata": {},
   "outputs": [],
   "source": [
    "i=1\n",
    "while i  > 10:\n",
    "    print(\"hello\")"
   ]
  },
  {
   "cell_type": "markdown",
   "metadata": {},
   "source": [
    "This one works:"
   ]
  },
  {
   "cell_type": "code",
   "execution_count": 34,
   "metadata": {},
   "outputs": [
    {
     "name": "stdout",
     "output_type": "stream",
     "text": [
      "hello\n",
      "hello\n",
      "hello\n",
      "hello\n",
      "hello\n",
      "hello\n",
      "hello\n",
      "hello\n",
      "hello\n",
      "hello\n"
     ]
    }
   ],
   "source": [
    "i=1\n",
    "while i <= 10:\n",
    "    print(\"hello\")\n",
    "    i=i+1"
   ]
  },
  {
   "cell_type": "code",
   "execution_count": 35,
   "metadata": {},
   "outputs": [
    {
     "name": "stdout",
     "output_type": "stream",
     "text": [
      "hello\n",
      "hello\n",
      "hello\n",
      "hello\n",
      "hello\n",
      "hello\n",
      "hello\n",
      "hello\n",
      "hello\n",
      "hello\n"
     ]
    }
   ],
   "source": [
    "i=1\n",
    "while i <= 10:\n",
    "    print(\"hello\")\n",
    "    i+=1"
   ]
  },
  {
   "cell_type": "code",
   "execution_count": null,
   "metadata": {},
   "outputs": [],
   "source": [
    "age = int( input( \"Write your age please \"))\n",
    "while age <0:\n",
    "    print ( \"Since when are ages negative? \")\n",
    "    age = int( input( \"Write a correct age please \"))"
   ]
  },
  {
   "cell_type": "code",
   "execution_count": null,
   "metadata": {},
   "outputs": [],
   "source": [
    "age = int( input( \"Write your age please \"))\n",
    "while age <0 or age >= 200:\n",
    "    print ( \"Ages are neither negative nor unrealistically large \")\n",
    "    age = int( input( \"Write a correct age please \"))"
   ]
  },
  {
   "cell_type": "code",
   "execution_count": null,
   "metadata": {},
   "outputs": [],
   "source": [
    "age = int( input( \"Write your age please \"))\n",
    "k=0\n",
    "while (age <0 or age >= 200) and k<5:\n",
    "    print ( \"Ages are neither negative nor unrealistically large \")\n",
    "    age = int( input( \"Write a correct age please \"))\n",
    "    k+=1"
   ]
  },
  {
   "cell_type": "code",
   "execution_count": null,
   "metadata": {},
   "outputs": [],
   "source": [
    "age = int( input( \"Write your age please \"))\n",
    "k=0\n",
    "while age <0 or age >= 200:\n",
    "    print ( \"Ages are neither negative nor unrealistically large \")\n",
    "    age = int( input( \"Write a correct age please \"))\n",
    "    k+=1\n",
    "    if k>=5:\n",
    "        break"
   ]
  },
  {
   "cell_type": "code",
   "execution_count": null,
   "metadata": {},
   "outputs": [],
   "source": [
    "age = int( input( \"Write your age please \"))\n",
    "k=0\n",
    "while age <0 or age >= 200:\n",
    "    print ( \"Ages are neither negative nor unrealistically large; chance number \"+str(k))\n",
    "    age = int( input( \"Write a correct age please \"))\n",
    "    if age >0 and age <= 150:\n",
    "        print ( \"This is not such an unrealistic age, so you have an extra chance \")\n",
    "        continue\n",
    "    k+=1\n",
    "    if k>=5:\n",
    "        break"
   ]
  },
  {
   "cell_type": "code",
   "execution_count": null,
   "metadata": {},
   "outputs": [],
   "source": []
  }
 ],
 "metadata": {
  "kernelspec": {
   "display_name": "Python 3",
   "language": "python",
   "name": "python3"
  },
  "language_info": {
   "codemirror_mode": {
    "name": "ipython",
    "version": 3
   },
   "file_extension": ".py",
   "mimetype": "text/x-python",
   "name": "python",
   "nbconvert_exporter": "python",
   "pygments_lexer": "ipython3",
   "version": "3.6.6"
  },
  "toc": {
   "base_numbering": 1,
   "nav_menu": {},
   "number_sections": false,
   "sideBar": false,
   "skip_h1_title": false,
   "title_cell": "Table of Contents",
   "title_sidebar": "Contents",
   "toc_cell": false,
   "toc_position": {},
   "toc_section_display": false,
   "toc_window_display": false
  }
 },
 "nbformat": 4,
 "nbformat_minor": 2
}
